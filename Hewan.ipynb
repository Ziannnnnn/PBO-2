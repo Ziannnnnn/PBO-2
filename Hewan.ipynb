{
  "cells": [
    {
      "cell_type": "markdown",
      "metadata": {
        "id": "view-in-github",
        "colab_type": "text"
      },
      "source": [
        "<a href=\"https://colab.research.google.com/github/Ziannnnnn/PBO-2/blob/main/Hewan.ipynb\" target=\"_parent\"><img src=\"https://colab.research.google.com/assets/colab-badge.svg\" alt=\"Open In Colab\"/></a>"
      ]
    },
    {
      "cell_type": "code",
      "source": [
        "class Hewan:\n",
        "    def __init__(self, nama, spesies):\n",
        "        self.nama = nama\n",
        "        self.spesies = spesies\n",
        "\n",
        "    def buat_suara(self, suara):\n",
        "        return f\"{self.nama} si {self.spesies} berbunyi {suara}\"\n",
        "\n",
        "hewan1 = Hewan(\"Buddy\", \"Anjing\")\n",
        "print(hewan1.buat_suara(\"Guk!\"))"
      ],
      "metadata": {
        "colab": {
          "base_uri": "https://localhost:8080/"
        },
        "id": "upzdUsSCkPM4",
        "outputId": "efbd2045-6e89-4cc9-ef12-003fda989fdf"
      },
      "execution_count": 18,
      "outputs": [
        {
          "output_type": "stream",
          "name": "stdout",
          "text": [
            "Buddy si Anjing berbunyi Guk!\n"
          ]
        }
      ]
    }
  ],
  "metadata": {
    "colab": {
      "name": "Welcome To Colab",
      "provenance": [],
      "include_colab_link": true
    },
    "kernelspec": {
      "display_name": "Python 3",
      "name": "python3"
    }
  },
  "nbformat": 4,
  "nbformat_minor": 0
}