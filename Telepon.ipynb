{
  "cells": [
    {
      "cell_type": "markdown",
      "metadata": {
        "id": "view-in-github",
        "colab_type": "text"
      },
      "source": [
        "<a href=\"https://colab.research.google.com/github/Ziannnnnn/PBO-2/blob/main/Telepon.ipynb\" target=\"_parent\"><img src=\"https://colab.research.google.com/assets/colab-badge.svg\" alt=\"Open In Colab\"/></a>"
      ]
    },
    {
      "cell_type": "code",
      "source": [
        "class Mobil:\n",
        "    def __init__(self, merek, model, tahun):\n",
        "        self.merek = merek\n",
        "        self.model = model\n",
        "        self.tahun = tahun\n",
        "\n",
        "    def tampilkan_info(self):\n",
        "        return f\"Mobil: {self.merek}\\nModel: {self.model}\\nTahun: {self.tahun}\"\n",
        "\n",
        "mobil1 = Mobil(\"Toyota\", \"Corolla\", 2020)\n",
        "print(mobil1.tampilkan_info())\n"
      ],
      "metadata": {
        "id": "upzdUsSCkPM4",
        "outputId": "48fa1b7b-c5bd-4370-a474-eea9309f9be6",
        "colab": {
          "base_uri": "https://localhost:8080/"
        }
      },
      "execution_count": 8,
      "outputs": [
        {
          "output_type": "stream",
          "name": "stdout",
          "text": [
            "Mobil: Toyota\n",
            "Model: Corolla\n",
            "Tahun: 2020\n"
          ]
        }
      ]
    },
    {
      "cell_type": "code",
      "source": [
        "class Hewan:\n",
        "    def __init__(self, nama, spesies):\n",
        "        self.nama = nama\n",
        "        self.spesies = spesies\n",
        "\n",
        "    def buat_suara(self, suara):\n",
        "        return f\"{self.nama} si {self.spesies} berbunyi {suara}\"\n",
        "\n",
        "hewan1 = Hewan(\"Buddy\", \"Anjing\")\n",
        "print(hewan1.buat_suara(\"Guk!\"))"
      ],
      "metadata": {
        "id": "E8Cu1kxHmD7K",
        "outputId": "894f8e25-74dc-48c2-daaa-08dcacb8a0e3",
        "colab": {
          "base_uri": "https://localhost:8080/"
        }
      },
      "execution_count": 9,
      "outputs": [
        {
          "output_type": "stream",
          "name": "stdout",
          "text": [
            "Buddy si Anjing berbunyi Guk!\n"
          ]
        }
      ]
    },
    {
      "cell_type": "code",
      "source": [
        "class Buku:\n",
        "    def __init__(self, judul, penulis):\n",
        "        self.judul = judul\n",
        "        self.penulis = penulis\n",
        "\n",
        "    def deskripsi(self):\n",
        "        return f\"Judul Buku: '{self.judul}'\\nPenulis: {self.penulis}\"\n",
        "\n",
        "buku1 = Buku(\"1984\", \"George Orwell\")\n",
        "print(buku1.deskripsi())"
      ],
      "metadata": {
        "id": "1Egdy-HYmRjT",
        "outputId": "171c577f-33c7-4f2c-f331-04de2e90b46a",
        "colab": {
          "base_uri": "https://localhost:8080/"
        }
      },
      "execution_count": 11,
      "outputs": [
        {
          "output_type": "stream",
          "name": "stdout",
          "text": [
            "Judul Buku: '1984'\n",
            "Penulis: George Orwell\n"
          ]
        }
      ]
    },
    {
      "cell_type": "code",
      "source": [
        "class Siswa:\n",
        "    def __init__(self, nama, nilai):\n",
        "        self.nama = nama\n",
        "        self.nilai = nilai\n",
        "\n",
        "    def detail(self):\n",
        "        return f\"Nama Siswa: {self.nama}\\nNilai Siswa: {self.nilai}\"\n",
        "\n",
        "siswa1 = Siswa(\"Alice\", \"A\")\n",
        "print(siswa1.detail())"
      ],
      "metadata": {
        "id": "EW9xfswFmbdM",
        "outputId": "1408acfa-0a25-445b-e871-71dd459e853a",
        "colab": {
          "base_uri": "https://localhost:8080/"
        }
      },
      "execution_count": 14,
      "outputs": [
        {
          "output_type": "stream",
          "name": "stdout",
          "text": [
            "Nama Siswa: Alice\n",
            "Nilai Siswa: A\n"
          ]
        }
      ]
    },
    {
      "cell_type": "code",
      "source": [
        "class Telepon:\n",
        "    def __init__(self, merek, model):\n",
        "        self.merek = merek\n",
        "        self.model = model\n",
        "\n",
        "    def panggil(self, nomor):\n",
        "        return f\"Memanggil {nomor} dari:\\nMerek: {self.merek}\\nModel: {self.model}\"\n",
        "\n",
        "telepon1 = Telepon(\"Samsung\", \"Galaxy S21\")\n",
        "print(telepon1.panggil(\"123-456-7890\"))"
      ],
      "metadata": {
        "id": "ILZfgZNkmkXl",
        "outputId": "865d36e4-4cee-46f5-b10d-aca4e3698354",
        "colab": {
          "base_uri": "https://localhost:8080/"
        }
      },
      "execution_count": 15,
      "outputs": [
        {
          "output_type": "stream",
          "name": "stdout",
          "text": [
            "Memanggil 123-456-7890 dari:\n",
            "Merek: Samsung\n",
            "Model: Galaxy S21\n"
          ]
        }
      ]
    }
  ],
  "metadata": {
    "colab": {
      "name": "Welcome To Colab",
      "toc_visible": true,
      "provenance": [],
      "include_colab_link": true
    },
    "kernelspec": {
      "display_name": "Python 3",
      "name": "python3"
    }
  },
  "nbformat": 4,
  "nbformat_minor": 0
}