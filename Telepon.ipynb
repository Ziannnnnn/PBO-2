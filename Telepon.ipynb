{
  "cells": [
    {
      "cell_type": "markdown",
      "metadata": {
        "id": "view-in-github",
        "colab_type": "text"
      },
      "source": [
        "<a href=\"https://colab.research.google.com/github/Ziannnnnn/PBO-2/blob/main/Telepon.ipynb\" target=\"_parent\"><img src=\"https://colab.research.google.com/assets/colab-badge.svg\" alt=\"Open In Colab\"/></a>"
      ]
    },
    {
      "cell_type": "code",
      "source": [
        "class Telepon:\n",
        "    def __init__(self, merek, model):\n",
        "        self.merek = merek\n",
        "        self.model = model\n",
        "\n",
        "    def panggil(self, nomor):\n",
        "        return f\"Memanggil {nomor} dari:\\nMerek: {self.merek}\\nModel: {self.model}\"\n",
        "\n",
        "telepon1 = Telepon(\"Samsung\", \"Galaxy S21\")\n",
        "print(telepon1.panggil(\"123-456-7890\"))"
      ],
      "metadata": {
        "colab": {
          "base_uri": "https://localhost:8080/"
        },
        "id": "upzdUsSCkPM4",
        "outputId": "44baedd2-ff78-410c-faea-bab9b1a75451"
      },
      "execution_count": 20,
      "outputs": [
        {
          "output_type": "stream",
          "name": "stdout",
          "text": [
            "Memanggil 123-456-7890 dari:\n",
            "Merek: Samsung\n",
            "Model: Galaxy S21\n"
          ]
        }
      ]
    }
  ],
  "metadata": {
    "colab": {
      "name": "Welcome To Colab",
      "provenance": [],
      "include_colab_link": true
    },
    "kernelspec": {
      "display_name": "Python 3",
      "name": "python3"
    }
  },
  "nbformat": 4,
  "nbformat_minor": 0
}