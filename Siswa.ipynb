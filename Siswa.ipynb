{
  "cells": [
    {
      "cell_type": "markdown",
      "metadata": {
        "id": "view-in-github",
        "colab_type": "text"
      },
      "source": [
        "<a href=\"https://colab.research.google.com/github/Ziannnnnn/PBO-2/blob/main/Siswa.ipynb\" target=\"_parent\"><img src=\"https://colab.research.google.com/assets/colab-badge.svg\" alt=\"Open In Colab\"/></a>"
      ]
    },
    {
      "cell_type": "code",
      "source": [
        "class Siswa:\n",
        "    def __init__(self, nama, nilai):\n",
        "        self.nama = nama\n",
        "        self.nilai = nilai\n",
        "\n",
        "    def detail(self):\n",
        "        return f\"Nama Siswa: {self.nama}\\nNilai Siswa: {self.nilai}\"\n",
        "\n",
        "siswa1 = Siswa(\"Alice\", \"A\")\n",
        "print(siswa1.detail())\n"
      ],
      "metadata": {
        "colab": {
          "base_uri": "https://localhost:8080/"
        },
        "id": "upzdUsSCkPM4",
        "outputId": "0ea99484-7d68-4f08-ed84-6ff8f7dc5f9c"
      },
      "execution_count": 19,
      "outputs": [
        {
          "output_type": "stream",
          "name": "stdout",
          "text": [
            "Nama Siswa: Alice\n",
            "Nilai Siswa: A\n"
          ]
        }
      ]
    }
  ],
  "metadata": {
    "colab": {
      "name": "Welcome To Colab",
      "provenance": [],
      "include_colab_link": true
    },
    "kernelspec": {
      "display_name": "Python 3",
      "name": "python3"
    }
  },
  "nbformat": 4,
  "nbformat_minor": 0
}